{
  "cells": [
    {
      "cell_type": "markdown",
      "metadata": {
        "id": "xbgkQw0o6bp9"
      },
      "source": [
        "# Imports"
      ]
    },
    {
      "cell_type": "code",
      "execution_count": null,
      "metadata": {
        "id": "oMYXeHegVlt7"
      },
      "outputs": [],
      "source": [
        "import matplotlib.pyplot as plt\n",
        "import numpy as np\n",
        "import tensorflow as tf\n",
        "import tensorflow_datasets as tfds"
      ]
    },
    {
      "cell_type": "markdown",
      "metadata": {
        "id": "XxVNOaUs6zcY"
      },
      "source": [
        "# Downloading CityScapes dataset from /www.cityscapes-dataset.com/"
      ]
    },
    {
      "cell_type": "code",
      "execution_count": null,
      "metadata": {
        "id": "_Vr0ChmFVz26"
      },
      "outputs": [],
      "source": [
        "!wget --keep-session-cookies --save-cookies=cookies.txt --post-data 'username=amrkandil&password=vukqYm-nyscuq-5rubfy&submit=Login' https://www.cityscapes-dataset.com/login/\n",
        "\n",
        "!wget --load-cookies cookies.txt --content-disposition https://www.cityscapes-dataset.com/file-handling/?packageID=1\n",
        "\n",
        "!wget --load-cookies cookies.txt --content-disposition https://www.cityscapes-dataset.com/file-handling/?packageID=3"
      ]
    },
    {
      "cell_type": "markdown",
      "metadata": {
        "id": "OeD6hpqa64Ju"
      },
      "source": [
        "## unzipping the files"
      ]
    },
    {
      "cell_type": "code",
      "execution_count": null,
      "metadata": {
        "id": "zSkQmRcqZFT4"
      },
      "outputs": [],
      "source": [
        "!unzip gtFine_trainvaltest.zip\n",
        "!unzip leftImg8bit_trainvaltest.zip\n",
        "\n",
        "# will ask you to replace the readme SO PRESS YES"
      ]
    },
    {
      "cell_type": "markdown",
      "metadata": {
        "id": "EoL1PLpV6-wY"
      },
      "source": [
        "# Loading cityscapes-to-coco-conversion repo"
      ]
    },
    {
      "cell_type": "code",
      "execution_count": null,
      "metadata": {
        "id": "3Xp_uXaunC7w"
      },
      "outputs": [],
      "source": [
        "!git clone https://github.com/kanndil/cityscapes-to-coco-conversion.git"
      ]
    },
    {
      "cell_type": "code",
      "execution_count": null,
      "metadata": {
        "id": "j2cP_ulHvPj6"
      },
      "outputs": [],
      "source": [
        "\n",
        "!pip install -r cityscapes-to-coco-conversion/requirements.txt \n",
        "\n"
      ]
    },
    {
      "cell_type": "markdown",
      "metadata": {
        "id": "KXxITJh1R3b6"
      },
      "source": [
        "# taking a small portion of the dataset"
      ]
    },
    {
      "cell_type": "code",
      "execution_count": null,
      "metadata": {
        "id": "YnYlppTyR1ub"
      },
      "outputs": [],
      "source": [
        "# !rm -r gtFine/train/aachen\n",
        "# !rm -r gtFine/train/bochum\n",
        "# !rm -r gtFine/train/bremen\n",
        "# !rm -r gtFine/train/cologne\n",
        "# !rm -r gtFine/train/darmstadt\n",
        "# !rm -r gtFine/train/dusseldorf\n",
        "# !rm -r gtFine/train/erfurt\n",
        "!rm -r gtFine/train/hamburg\n",
        "# !rm -r gtFine/train/hanover\n",
        "# !rm -r gtFine/train/jena\n",
        "# !rm -r gtFine/train/krefeld\n",
        "# !rm -r gtFine/train/monchengladbach\n",
        "# !rm -r gtFine/train/strasbourg\n",
        "# !rm -r gtFine/train/stuttgart\n",
        "# !rm -r gtFine/train/tubingen\n",
        "# !rm -r gtFine/train/ulm\n",
        "# !rm -r gtFine/train/weimar\n",
        "\n",
        "#  droppiing hamberg because it has a few corrupted images\n",
        "\n",
        "\n",
        "# !rm -r leftImg8bit/train/aachen\n",
        "# !rm -r leftImg8bit/train/bochum\n",
        "# !rm -r leftImg8bit/train/bremen\n",
        "# !rm -r leftImg8bit/train/cologne\n",
        "# !rm -r leftImg8bit/train/darmstadt\n",
        "# !rm -r leftImg8bit/train/dusseldorf\n",
        "# !rm -r leftImg8bit/train/erfurt\n",
        "!rm -r leftImg8bit/train/hamburg\n",
        "# !rm -r leftImg8bit/train/hanover\n",
        "# !rm -r leftImg8bit/train/jena\n",
        "# !rm -r leftImg8bit/train/krefeld\n",
        "# !rm -r leftImg8bit/train/monchengladbach\n",
        "# !rm -r leftImg8bit/train/strasbourg\n",
        "# !rm -r leftImg8bit/train/stuttgart\n",
        "# !rm -r leftImg8bit/train/tubingen\n",
        "# !rm -r leftImg8bit/train/ulm\n",
        "# !rm -r leftImg8bit/train/weimar\n",
        "\n"
      ]
    },
    {
      "cell_type": "code",
      "execution_count": null,
      "metadata": {
        "id": "FzJjxGYwcKu0"
      },
      "outputs": [],
      "source": [
        "!mkdir data"
      ]
    },
    {
      "cell_type": "code",
      "execution_count": null,
      "metadata": {
        "id": "aRF-AssscgBi"
      },
      "outputs": [],
      "source": [
        "!mkdir data/cityscapes"
      ]
    },
    {
      "cell_type": "code",
      "execution_count": null,
      "metadata": {
        "id": "KvfoLr-mcnAO"
      },
      "outputs": [],
      "source": [
        "!mkdir data/cityscapes/annotations"
      ]
    },
    {
      "cell_type": "code",
      "execution_count": null,
      "metadata": {
        "id": "ARgcYY49cs8x"
      },
      "outputs": [],
      "source": [
        "!mv leftImg8bit/ data/cityscapes/\n",
        "!mv gtFine/ data/cityscapes/"
      ]
    },
    {
      "cell_type": "markdown",
      "metadata": {
        "id": "5BC8NvC17Ks4"
      },
      "source": [
        "# converting from cityscapes format to coco format"
      ]
    },
    {
      "cell_type": "code",
      "execution_count": null,
      "metadata": {
        "id": "LM2uUJPwb45O"
      },
      "outputs": [],
      "source": [
        "!python cityscapes-to-coco-conversion/main.py --dataset cityscapes --datadir data/cityscapes --outdir data/cityscapes/annotations"
      ]
    },
    {
      "cell_type": "markdown",
      "metadata": {
        "id": "W-DbD2Oo7j4F"
      },
      "source": [
        "# cloning DETR for Keras repo"
      ]
    },
    {
      "cell_type": "code",
      "execution_count": null,
      "metadata": {
        "id": "db_jqJHMej3J"
      },
      "outputs": [],
      "source": [
        "!rm -r detr-tensorflow\n",
        "!rm -r detr_tf\n",
        "!git clone https://github.com/kanndil/detr-tensorflow.git"
      ]
    },
    {
      "cell_type": "code",
      "execution_count": null,
      "metadata": {
        "id": "yoHgGw99dbDy"
      },
      "outputs": [],
      "source": [
        "!mv detr-tensorflow/detr_tf/ ./"
      ]
    },
    {
      "cell_type": "code",
      "execution_count": null,
      "metadata": {
        "colab": {
          "base_uri": "https://localhost:8080/",
          "height": 36
        },
        "id": "-2N-4ZREV0-i",
        "outputId": "be6084aa-a32b-4733-9831-8bafa8e4dda4"
      },
      "outputs": [
        {
          "data": {
            "application/vnd.google.colaboratory.intrinsic+json": {
              "type": "string"
            },
            "text/plain": [
              "'/content/weights/detr/detr.ckpt.index'"
            ]
          },
          "execution_count": 6,
          "metadata": {},
          "output_type": "execute_result"
        }
      ],
      "source": [
        "# # !mkdir weights/\n",
        "# # !mkdir weights/detr/\n",
        "# import shutil\n",
        "# shutil.copy(\"/content/drive/MyDrive/weights/detr/checkpoint\" , \"/content/weights/detr/\")\n",
        "# shutil.copy(\"/content/drive/MyDrive/weights/detr/detr.ckpt.data-00000-of-00001\" , \"/content/weights/detr/\")\n",
        "# shutil.copy(\"/content/drive/MyDrive/weights/detr/detr.ckpt.index\" , \"/content/weights/detr/\")\n"
      ]
    },
    {
      "cell_type": "code",
      "execution_count": null,
      "metadata": {
        "id": "X1eZ5MbpdXV1"
      },
      "outputs": [],
      "source": [
        "\n",
        "import sys\n",
        "# Set the path to the repository here\n",
        "import detr_tf\n",
        "import tensorflow as tf\n",
        "from os.path import expanduser\n",
        "import os\n",
        "from detr_tf.data import load_coco_dataset\n",
        "from detr_tf.training_config import TrainingConfig, DataConfig\n",
        "\n",
        "\n"
      ]
    },
    {
      "cell_type": "code",
      "execution_count": null,
      "metadata": {
        "id": "UDVroKJzfBea"
      },
      "outputs": [],
      "source": [
        "\n",
        "physical_devices = tf.config.list_physical_devices('GPU')\n",
        "if len(physical_devices) == 1:\n",
        "    tf.config.experimental.set_memory_growth(physical_devices[0], True)"
      ]
    },
    {
      "cell_type": "code",
      "execution_count": null,
      "metadata": {
        "id": "Sg8e1r06fCOU"
      },
      "outputs": [],
      "source": [
        "\n",
        "class MyConfig(TrainingConfig):\n",
        "    def __init__(self):\n",
        "        super().__init__()        \n",
        "        self.data_dir = \"./\"\n",
        "        self.data = DataConfig(data_dir=self.data_dir, img_dir=\"./data/cityscapes/\", ann_file=\"./data/cityscapes/annotations/instancesonly_filtered_gtFine_train.json\")\n",
        "        self.batch_size = 1\n",
        "\n",
        "config = MyConfig()\n",
        "\n",
        "config2 = MyConfig()\n",
        "config2.data =  DataConfig(data_dir=config2.data_dir, img_dir=\"./data/cityscapes/\", ann_file=\"./data/cityscapes/annotations/instancesonly_filtered_gtFine_val.json\")\n",
        "# iterator, class_names = load_coco_dataset(config, config.batch_size, augmentation=True)\n",
        "\n",
        "\n",
        "\n",
        "\n",
        "\n"
      ]
    },
    {
      "cell_type": "code",
      "execution_count": null,
      "metadata": {
        "id": "DGlVjDZ2tC7d"
      },
      "outputs": [],
      "source": [
        "train_iterator, class_names = load_coco_dataset(config, config.batch_size, augmentation=True)\n",
        "valid_iterator, class_names = load_coco_dataset( config2, config.batch_size, augmentation=False)\n",
        "print(class_names)"
      ]
    },
    {
      "cell_type": "code",
      "execution_count": null,
      "metadata": {
        "id": "S8_tYKHgdmkw"
      },
      "outputs": [],
      "source": [
        "from detr_tf.networks.detr import get_detr_model\n",
        "# Load the pretrained DETR model with new heads at the top\n",
        "# include_top: We do not include the last layers that predicts the bbox pos and class (include_top=False)\n",
        "# nb_class: We add new layers on top of the model to predicts the bbox pos and class with three class (nb_class=3), background, helmet, face\n",
        "# weights: Use the \"detr\" weight to init the model\n",
        "detr = get_detr_model(config, include_top=False, nb_class=len(class_names), weights=\"detr\")\n",
        "detr.summary()"
      ]
    },
    {
      "cell_type": "code",
      "execution_count": null,
      "metadata": {
        "id": "eMkatzlmhAVR"
      },
      "outputs": [],
      "source": [
        "# Train/finetune the transformers only\n",
        "config.train_backbone = tf.Variable(False)\n",
        "config.train_transformers = tf.Variable(False)\n",
        "config.train_nlayers = tf.Variable(True)"
      ]
    },
    {
      "cell_type": "code",
      "execution_count": null,
      "metadata": {
        "id": "I_fNNSBetZks"
      },
      "outputs": [],
      "source": [
        "config.nlayers_lr = tf.Variable(1e-4)"
      ]
    },
    {
      "cell_type": "code",
      "execution_count": null,
      "metadata": {
        "id": "8RdZ1eIghK4y"
      },
      "outputs": [],
      "source": [
        "from detr_tf.optimizers import setup_optimizers\n",
        "# Setup the optimziers and the trainable variables\n",
        "optimzers = setup_optimizers(detr, config)"
      ]
    },
    {
      "cell_type": "code",
      "execution_count": null,
      "metadata": {
        "id": "UGO68_AJ5ra2"
      },
      "outputs": [],
      "source": [
        "!pip install wandb"
      ]
    },
    {
      "cell_type": "markdown",
      "metadata": {
        "id": "hkeS_OO5K_GJ"
      },
      "source": []
    },
    {
      "cell_type": "code",
      "execution_count": null,
      "metadata": {
        "colab": {
          "base_uri": "https://localhost:8080/"
        },
        "id": "wVMlB_McJd5h",
        "outputId": "9087c711-01b4-4c64-9904-5ec8eac800f1"
      },
      "outputs": [
        {
          "name": "stdout",
          "output_type": "stream",
          "text": [
            "\u001b[34m\u001b[1mwandb\u001b[0m: Appending key for api.wandb.ai to your netrc file: /root/.netrc\n"
          ]
        }
      ],
      "source": [
        "!wandb login 28bbc19edf27dceeec00dcae021c2d0421cedada\n",
        "\n",
        "# you can connect it to your own wandb account follow https://docs.wandb.ai/quickstart"
      ]
    },
    {
      "cell_type": "markdown",
      "metadata": {
        "id": "3d8vS9Lu6WzG"
      },
      "source": [
        "# Training the model"
      ]
    },
    {
      "cell_type": "code",
      "execution_count": null,
      "metadata": {
        "id": "UXH7WZ7rhUhl"
      },
      "outputs": [],
      "source": [
        "# Train/finetune the transformers only\n",
        "config.log = tf.Variable(True)\n",
        "from detr_tf.optimizers import setup_optimizers\n",
        "# Setup the optimziers and the trainable variables\n",
        "optimzers = setup_optimizers(detr, config)"
      ]
    },
    {
      "cell_type": "code",
      "execution_count": null,
      "metadata": {
        "id": "91qzgl2YC-n7"
      },
      "outputs": [],
      "source": [
        "from detr_tf import training\n",
        "\n",
        "import wandb\n",
        "if config.log:\n",
        "    wandb.init(project=\"detr-tensorflow-with-nms\", reinit=True)\n",
        "\n"
      ]
    },
    {
      "cell_type": "code",
      "execution_count": null,
      "metadata": {
        "id": "5QLRvvq8btLr"
      },
      "outputs": [],
      "source": [
        "for epoch in range(1, 4):\n",
        "    training.fit(detr, train_iterator, optimzers, config, epoch_nb=epoch, class_names=class_names)"
      ]
    },
    {
      "cell_type": "markdown",
      "metadata": {
        "id": "-rC-g32jatO1"
      },
      "source": [
        "# Visualizing the prediction for a random image from Validation "
      ]
    },
    {
      "cell_type": "code",
      "execution_count": null,
      "metadata": {
        "id": "ct7LZO79Lapi"
      },
      "outputs": [],
      "source": [
        "import tensorflow as tf\n",
        "import numpy as np\n",
        "import cv2\n",
        "\n",
        "\n",
        "CLASS_COLOR_MAP = np.random.randint(0, 255, (100, 3))\n",
        "\n",
        "from detr_tf import bbox\n",
        "\n",
        "def numpy_bbox_to_image(image, bbox_list, labels=None, scores=None, class_name=[], config=None):\n",
        "    \"\"\" Numpy function used to display the bbox (target or prediction)\n",
        "    \"\"\"\n",
        "    assert(image.dtype == np.float32 and image.dtype == np.float32 and len(image.shape) == 3)\n",
        "\n",
        "    if config is not None and config.normalized_method == \"torch_resnet\":\n",
        "        channel_avg = np.array([0.485, 0.456, 0.406])\n",
        "        channel_std = np.array([0.229, 0.224, 0.225])\n",
        "        image = (image * channel_std) + channel_avg\n",
        "        image = (image*255).astype(np.uint8)\n",
        "    elif config is not None and config.normalized_method == \"tf_resnet\":\n",
        "        image = image + mean\n",
        "        image = image[..., ::-1]\n",
        "        image = image  / 255\n",
        "        \n",
        "    bbox_xcycwh = bbox.np_rescale_bbox_xcycwh(bbox_list, (image.shape[0], image.shape[1])) \n",
        "    bbox_x1y1x2y2 = bbox.np_xcycwh_to_xy_min_xy_max(bbox_xcycwh)\n",
        "\n",
        "    # Set the labels if not defined\n",
        "    if labels is None: labels = np.zeros((bbox_x1y1x2y2.shape[0]))\n",
        "\n",
        "    bbox_area = []\n",
        "    # Go through each bbox\n",
        "    for b in range(0, bbox_x1y1x2y2.shape[0]):\n",
        "        x1, y1, x2, y2 = bbox_x1y1x2y2[b]\n",
        "        bbox_area.append((x2-x1)*(y2-y1))\n",
        "\n",
        "    # Go through each bbox\n",
        "    for b in np.argsort(bbox_area)[::-1]:\n",
        "        # Take a new color at reandon for this instance\n",
        "        instance_color = np.random.randint(0, 255, (3))\n",
        "        \n",
        "\n",
        "        x1, y1, x2, y2 = bbox_x1y1x2y2[b]\n",
        "        x1, y1, x2, y2 = int(x1), int(y1), int(x2), int(y2)\n",
        "        x1, y1, x2, y2 = max(0, x1), max(0, y1), min(image.shape[1], x2), min(image.shape[0], y2)\n",
        "\n",
        "        # Select the class associated with this bbox\n",
        "        class_id = labels[int(b)]\n",
        "\n",
        "        if scores is not None and len(scores) > 0:\n",
        "            label_name = class_name[int(class_id)]   \n",
        "            label_name = \"%s:%.2f\" % (label_name, scores[b])\n",
        "        else:\n",
        "            label_name = class_name[int(class_id)]    \n",
        "\n",
        "        class_color = CLASS_COLOR_MAP[int(class_id)]\n",
        "    \n",
        "        color = instance_color\n",
        "        \n",
        "        multiplier = image.shape[0] / 500\n",
        "        cv2.rectangle(image, (x1, y1), (x1 + int(multiplier*7)*len(label_name), y1 + 10), class_color.tolist(), -5)\n",
        "        cv2.putText(image, label_name, (x1+2, y1 + 10), cv2.FONT_HERSHEY_SIMPLEX, 0.4 * multiplier, (0, 0, 0), 1)\n",
        "        cv2.rectangle(image, (x1, y1), (x2, y2), tuple(class_color.tolist()), 2)\n",
        "\n",
        "    return image"
      ]
    },
    {
      "cell_type": "code",
      "execution_count": null,
      "metadata": {
        "id": "DavZAsKI5qWl"
      },
      "outputs": [],
      "source": [
        "from detr_tf.inference import get_model_inference\n",
        "#  numpy_bbox_to_image\n",
        "import matplotlib.pyplot as plt\n",
        "import numpy as np\n",
        "\n",
        "for valid_images, target_bbox, target_class in valid_iterator:\n",
        "    \n",
        "    m_outputs = detr(valid_images, training=False)\n",
        "    predicted_bbox, predicted_labels, predicted_scores = get_model_inference(m_outputs, config.background_class, bbox_format=\"xy_center\")\n",
        "    \n",
        "    \n",
        "    selected_indices = tf.image.non_max_suppression(\n",
        "    predicted_bbox, predicted_scores, 15, 0.8)\n",
        "    selected_boxes = tf.gather(predicted_bbox, selected_indices)\n",
        "    selected_labels = tf.gather(predicted_labels, selected_indices)\n",
        "    selected_scores = tf.gather(predicted_scores, selected_indices)\n",
        "   \n",
        "\n",
        "    result = numpy_bbox_to_image(\n",
        "        np.array(valid_images[0]),\n",
        "        np.array(selected_boxes),\n",
        "        np.array(selected_labels),\n",
        "        scores=np.array(selected_scores),\n",
        "        class_name=class_names, \n",
        "        config=config\n",
        "    )\n",
        "\n",
        "    # result = numpy_bbox_to_image(\n",
        "    #     np.array(valid_images[0]),\n",
        "    #     np.array(predicted_bbox),\n",
        "    #     np.array(predicted_labels),\n",
        "    #     scores=np.array(predicted_scores),\n",
        "    #     class_name=class_names, \n",
        "    #     config=config\n",
        "    # )\n",
        "\n",
        "\n",
        "    print(len(predicted_bbox))\n",
        "    print(len(predicted_labels))\n",
        "    \n",
        "    print(len(selected_boxes))\n",
        "    print(len(selected_labels))\n",
        "    fig = plt.figure()\n",
        "    fig.set_figheight(15)\n",
        "    fig.set_figwidth(15)\n",
        "    plt.imshow(result)\n",
        "    plt.show()\n",
        "    break"
      ]
    },
    {
      "cell_type": "code",
      "execution_count": null,
      "metadata": {
        "id": "MjPbF1FBwnDt"
      },
      "outputs": [],
      "source": [
        "config.train_transformers.assign(True)\n",
        "config.transformers_lr.assign(1e-5)\n",
        "config.nlayers_lr.assign(1e-4)"
      ]
    },
    {
      "cell_type": "code",
      "execution_count": null,
      "metadata": {
        "id": "kJAfdpc4wpwS"
      },
      "outputs": [],
      "source": [
        "for epoch in range(1, 15):\n",
        "    training.fit(detr, train_iterator, optimzers, config, epoch_nb=epoch, class_names=class_names)"
      ]
    },
    {
      "cell_type": "code",
      "execution_count": null,
      "metadata": {
        "id": "9ZLka67fWK8K"
      },
      "outputs": [],
      "source": [
        "from detr_tf.inference import get_model_inference\n",
        "#  numpy_bbox_to_image\n",
        "import matplotlib.pyplot as plt\n",
        "import numpy as np\n",
        "\n",
        "for valid_images, target_bbox, target_class in valid_iterator:\n",
        "    \n",
        "    m_outputs = detr(valid_images, training=False)\n",
        "    predicted_bbox, predicted_labels, predicted_scores = get_model_inference(m_outputs, config.background_class, bbox_format=\"xy_center\")\n",
        "    \n",
        "    \n",
        "    selected_indices = tf.image.non_max_suppression(\n",
        "    predicted_bbox, predicted_scores, 15, 0.8)\n",
        "    selected_boxes = tf.gather(predicted_bbox, selected_indices)\n",
        "    selected_labels = tf.gather(predicted_labels, selected_indices)\n",
        "    selected_scores = tf.gather(predicted_scores, selected_indices)\n",
        "   \n",
        "\n",
        "    result = numpy_bbox_to_image(\n",
        "        np.array(valid_images[0]),\n",
        "        np.array(selected_boxes),\n",
        "        np.array(selected_labels),\n",
        "        scores=np.array(selected_scores),\n",
        "        class_name=class_names, \n",
        "        config=config\n",
        "    )\n",
        "\n",
        "    # result = numpy_bbox_to_image(\n",
        "    #     np.array(valid_images[0]),\n",
        "    #     np.array(predicted_bbox),\n",
        "    #     np.array(predicted_labels),\n",
        "    #     scores=np.array(predicted_scores),\n",
        "    #     class_name=class_names, \n",
        "    #     config=config\n",
        "    # )\n",
        "\n",
        "\n",
        "    print(len(predicted_bbox))\n",
        "    print(len(predicted_labels))\n",
        "    \n",
        "    print(len(selected_boxes))\n",
        "    print(len(selected_labels))\n",
        "    fig = plt.figure()\n",
        "    fig.set_figheight(15)\n",
        "    fig.set_figwidth(15)\n",
        "    plt.imshow(result)\n",
        "    plt.show()\n",
        "    break"
      ]
    },
    {
      "cell_type": "markdown",
      "metadata": {
        "id": "MZ4K0MFEL8j7"
      },
      "source": [
        "# save weights"
      ]
    },
    {
      "cell_type": "code",
      "execution_count": null,
      "metadata": {
        "id": "BKpmNGo7L8P8"
      },
      "outputs": [],
      "source": [
        "!mkdir -p saved_weights/\n",
        "!mkdir -p saved_weights/detr\n",
        "\n",
        "detr.save_weights(\"saved_weights/detr/\",True)\n",
        "\n"
      ]
    },
    {
      "cell_type": "markdown",
      "metadata": {
        "id": "QyNC_Rg3uNZh"
      },
      "source": [
        "# setting up evaluation"
      ]
    },
    {
      "cell_type": "code",
      "execution_count": null,
      "metadata": {
        "id": "kOkJiMZ-57Zw"
      },
      "outputs": [],
      "source": [
        "import argparse\n",
        "import tensorflow as tf\n",
        "import os\n",
        "import matplotlib.pyplot as plt\n",
        "import numpy as np\n",
        "\n",
        "from detr_tf.inference import get_model_inference\n",
        "from detr_tf.data.coco import load_coco_dataset\n",
        "from detr_tf.loss.compute_map import cal_map, calc_map, APDataObject\n",
        "from detr_tf.networks.detr import get_detr_model\n",
        "from detr_tf.bbox import xcycwh_to_xy_min_xy_max, xcycwh_to_yx_min_yx_max\n",
        "from detr_tf.inference import numpy_bbox_to_image\n",
        "from detr_tf.training_config import TrainingConfig, training_config_parser\n"
      ]
    },
    {
      "cell_type": "code",
      "execution_count": null,
      "metadata": {
        "id": "8QWilCM85__U"
      },
      "outputs": [],
      "source": [
        "\n",
        "def eval_model(model, config, class_names, valid_dt):\n",
        "    \"\"\" Run evaluation\n",
        "    \"\"\"\n",
        "\n",
        "    iou_thresholds = [x / 100. for x in range(50, 100, 5)]\n",
        "    # print(iou_thresholds)\n",
        "    ap_data = {\n",
        "        'box' : [[APDataObject() for _ in class_names] for _ in iou_thresholds],\n",
        "        'mask': [[APDataObject() for _ in class_names] for _ in iou_thresholds]\n",
        "    }\n",
        "\n",
        "    it = 0\n",
        "\n",
        "    for images, target_bbox, target_class in valid_dt:\n",
        "        # print(\"in new image \", it)\n",
        "        # Forward pass\n",
        "        m_outputs = model(images)\n",
        "        # Run predictions\n",
        "        p_bbox, p_labels, p_scores = get_model_inference(m_outputs, config.background_class, bbox_format=\"yxyx\")\n",
        "        # Remove padding\n",
        "        t_bbox, t_class = target_bbox[0], target_class[0]\n",
        "        size = tf.cast(t_bbox[0][0], tf.int32)\n",
        "        t_bbox = tf.slice(t_bbox, [1, 0], [size, 4])\n",
        "        t_bbox = xcycwh_to_yx_min_yx_max(t_bbox)\n",
        "        t_class = tf.slice(t_class, [1, 0], [size, -1])\n",
        "        t_class = tf.squeeze(t_class, axis=-1)\n",
        "        # Compute map\n",
        "        cal_map(p_bbox, p_labels, p_scores,  np.zeros((138, 138, len(p_bbox))), np.array(t_bbox), np.array(t_class), np.zeros((138, 138, len(t_bbox))), ap_data, iou_thresholds)\n",
        "        # print(\"before f \")\n",
        "        print(f\"Computing map.....{it}\", end=\"\\r\")\n",
        "        it += 1\n",
        "        #if it > 10:\n",
        "        #    break\n",
        "\n",
        "    # Compute the mAp over all thresholds\n",
        "    calc_map(ap_data, iou_thresholds, class_names, print_result=True)"
      ]
    },
    {
      "cell_type": "code",
      "execution_count": null,
      "metadata": {
        "id": "_FX0ubOpMdK-"
      },
      "outputs": [],
      "source": [
        "from detr_tf import training\n",
        "config.ann_file = tf.Variable(\"./data/cityscapes/annotations/instancesonly_filtered_gtFine_val.json\")\n",
        "for epoch in range(1, 100):\n",
        "    training.eval(detr, valid_iterator, config, class_names, 2)"
      ]
    }
  ],
  "metadata": {
    "accelerator": "GPU",
    "colab": {
      "collapsed_sections": [
        "xbgkQw0o6bp9",
        "XxVNOaUs6zcY",
        "EoL1PLpV6-wY",
        "KXxITJh1R3b6",
        "5BC8NvC17Ks4",
        "W-DbD2Oo7j4F",
        "3d8vS9Lu6WzG",
        "-rC-g32jatO1",
        "MZ4K0MFEL8j7",
        "QyNC_Rg3uNZh"
      ],
      "provenance": [],
      "toc_visible": true
    },
    "gpuClass": "standard",
    "kernelspec": {
      "display_name": "Python 3",
      "name": "python3"
    },
    "language_info": {
      "name": "python"
    }
  },
  "nbformat": 4,
  "nbformat_minor": 0
}
